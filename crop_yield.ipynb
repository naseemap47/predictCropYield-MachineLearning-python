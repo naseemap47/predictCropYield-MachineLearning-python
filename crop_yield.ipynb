{
 "cells": [
  {
   "cell_type": "code",
   "execution_count": 1,
   "metadata": {},
   "outputs": [
    {
     "data": {
      "text/html": [
       "<div>\n",
       "<style scoped>\n",
       "    .dataframe tbody tr th:only-of-type {\n",
       "        vertical-align: middle;\n",
       "    }\n",
       "\n",
       "    .dataframe tbody tr th {\n",
       "        vertical-align: top;\n",
       "    }\n",
       "\n",
       "    .dataframe thead th {\n",
       "        text-align: right;\n",
       "    }\n",
       "</style>\n",
       "<table border=\"1\" class=\"dataframe\">\n",
       "  <thead>\n",
       "    <tr style=\"text-align: right;\">\n",
       "      <th></th>\n",
       "      <th>State</th>\n",
       "      <th>District</th>\n",
       "      <th>Crop</th>\n",
       "      <th>Year</th>\n",
       "      <th>Season</th>\n",
       "      <th>Area</th>\n",
       "      <th>Area Units</th>\n",
       "      <th>Production</th>\n",
       "      <th>Production Units</th>\n",
       "      <th>Yield</th>\n",
       "    </tr>\n",
       "  </thead>\n",
       "  <tbody>\n",
       "    <tr>\n",
       "      <th>0</th>\n",
       "      <td>Andaman and Nicobar Islands</td>\n",
       "      <td>NICOBARS</td>\n",
       "      <td>Arecanut</td>\n",
       "      <td>2001-02</td>\n",
       "      <td>Kharif</td>\n",
       "      <td>1254.0</td>\n",
       "      <td>Hectare</td>\n",
       "      <td>2061.0</td>\n",
       "      <td>Tonnes</td>\n",
       "      <td>1.643541</td>\n",
       "    </tr>\n",
       "    <tr>\n",
       "      <th>1</th>\n",
       "      <td>Andaman and Nicobar Islands</td>\n",
       "      <td>NICOBARS</td>\n",
       "      <td>Arecanut</td>\n",
       "      <td>2002-03</td>\n",
       "      <td>Whole Year</td>\n",
       "      <td>1258.0</td>\n",
       "      <td>Hectare</td>\n",
       "      <td>2083.0</td>\n",
       "      <td>Tonnes</td>\n",
       "      <td>1.655803</td>\n",
       "    </tr>\n",
       "    <tr>\n",
       "      <th>2</th>\n",
       "      <td>Andaman and Nicobar Islands</td>\n",
       "      <td>NICOBARS</td>\n",
       "      <td>Arecanut</td>\n",
       "      <td>2003-04</td>\n",
       "      <td>Whole Year</td>\n",
       "      <td>1261.0</td>\n",
       "      <td>Hectare</td>\n",
       "      <td>1525.0</td>\n",
       "      <td>Tonnes</td>\n",
       "      <td>1.209358</td>\n",
       "    </tr>\n",
       "    <tr>\n",
       "      <th>3</th>\n",
       "      <td>Andaman and Nicobar Islands</td>\n",
       "      <td>NORTH AND MIDDLE ANDAMAN</td>\n",
       "      <td>Arecanut</td>\n",
       "      <td>2001-02</td>\n",
       "      <td>Kharif</td>\n",
       "      <td>3100.0</td>\n",
       "      <td>Hectare</td>\n",
       "      <td>5239.0</td>\n",
       "      <td>Tonnes</td>\n",
       "      <td>1.690000</td>\n",
       "    </tr>\n",
       "    <tr>\n",
       "      <th>4</th>\n",
       "      <td>Andaman and Nicobar Islands</td>\n",
       "      <td>SOUTH ANDAMANS</td>\n",
       "      <td>Arecanut</td>\n",
       "      <td>2002-03</td>\n",
       "      <td>Whole Year</td>\n",
       "      <td>3105.0</td>\n",
       "      <td>Hectare</td>\n",
       "      <td>5267.0</td>\n",
       "      <td>Tonnes</td>\n",
       "      <td>1.696296</td>\n",
       "    </tr>\n",
       "  </tbody>\n",
       "</table>\n",
       "</div>"
      ],
      "text/plain": [
       "                         State                  District      Crop     Year  \\\n",
       "0  Andaman and Nicobar Islands                  NICOBARS  Arecanut  2001-02   \n",
       "1  Andaman and Nicobar Islands                  NICOBARS  Arecanut  2002-03   \n",
       "2  Andaman and Nicobar Islands                  NICOBARS  Arecanut  2003-04   \n",
       "3  Andaman and Nicobar Islands  NORTH AND MIDDLE ANDAMAN  Arecanut  2001-02   \n",
       "4  Andaman and Nicobar Islands            SOUTH ANDAMANS  Arecanut  2002-03   \n",
       "\n",
       "       Season    Area Area Units  Production Production Units     Yield  \n",
       "0      Kharif  1254.0    Hectare      2061.0           Tonnes  1.643541  \n",
       "1  Whole Year  1258.0    Hectare      2083.0           Tonnes  1.655803  \n",
       "2  Whole Year  1261.0    Hectare      1525.0           Tonnes  1.209358  \n",
       "3      Kharif  3100.0    Hectare      5239.0           Tonnes  1.690000  \n",
       "4  Whole Year  3105.0    Hectare      5267.0           Tonnes  1.696296  "
      ]
     },
     "execution_count": 1,
     "metadata": {},
     "output_type": "execute_result"
    }
   ],
   "source": [
    "import pandas as pd\n",
    "data = pd.read_csv('India Agriculture Crop Production.csv')\n",
    "data.head()"
   ]
  },
  {
   "cell_type": "markdown",
   "metadata": {},
   "source": [
    "# Data Cleaning\n",
    "### Missing Values"
   ]
  },
  {
   "cell_type": "code",
   "execution_count": 2,
   "metadata": {},
   "outputs": [],
   "source": [
    "# missing values - function\n",
    "def missing_values(data, n):\n",
    "    total_missing = data.isnull().sum().sort_values(ascending=False)\n",
    "    percent_missing = (data.isnull().sum() / data.isnull().count())*100\n",
    "    missing_data = pd.concat([total_missing, percent_missing], axis=1,\n",
    "                            keys=['Total', 'Percent'])\n",
    "    return missing_data.head(n)"
   ]
  },
  {
   "cell_type": "code",
   "execution_count": 3,
   "metadata": {},
   "outputs": [
    {
     "data": {
      "text/html": [
       "<div>\n",
       "<style scoped>\n",
       "    .dataframe tbody tr th:only-of-type {\n",
       "        vertical-align: middle;\n",
       "    }\n",
       "\n",
       "    .dataframe tbody tr th {\n",
       "        vertical-align: top;\n",
       "    }\n",
       "\n",
       "    .dataframe thead th {\n",
       "        text-align: right;\n",
       "    }\n",
       "</style>\n",
       "<table border=\"1\" class=\"dataframe\">\n",
       "  <thead>\n",
       "    <tr style=\"text-align: right;\">\n",
       "      <th></th>\n",
       "      <th>Total</th>\n",
       "      <th>Percent</th>\n",
       "    </tr>\n",
       "  </thead>\n",
       "  <tbody>\n",
       "    <tr>\n",
       "      <th>Production</th>\n",
       "      <td>10741</td>\n",
       "      <td>1.587907</td>\n",
       "    </tr>\n",
       "    <tr>\n",
       "      <th>Crop</th>\n",
       "      <td>967</td>\n",
       "      <td>0.142957</td>\n",
       "    </tr>\n",
       "    <tr>\n",
       "      <th>Area</th>\n",
       "      <td>967</td>\n",
       "      <td>0.142957</td>\n",
       "    </tr>\n",
       "    <tr>\n",
       "      <th>Area Units</th>\n",
       "      <td>967</td>\n",
       "      <td>0.142957</td>\n",
       "    </tr>\n",
       "    <tr>\n",
       "      <th>Production Units</th>\n",
       "      <td>967</td>\n",
       "      <td>0.142957</td>\n",
       "    </tr>\n",
       "    <tr>\n",
       "      <th>Yield</th>\n",
       "      <td>967</td>\n",
       "      <td>0.142957</td>\n",
       "    </tr>\n",
       "    <tr>\n",
       "      <th>State</th>\n",
       "      <td>0</td>\n",
       "      <td>0.000000</td>\n",
       "    </tr>\n",
       "    <tr>\n",
       "      <th>District</th>\n",
       "      <td>0</td>\n",
       "      <td>0.000000</td>\n",
       "    </tr>\n",
       "    <tr>\n",
       "      <th>Year</th>\n",
       "      <td>0</td>\n",
       "      <td>0.000000</td>\n",
       "    </tr>\n",
       "    <tr>\n",
       "      <th>Season</th>\n",
       "      <td>0</td>\n",
       "      <td>0.000000</td>\n",
       "    </tr>\n",
       "  </tbody>\n",
       "</table>\n",
       "</div>"
      ],
      "text/plain": [
       "                  Total   Percent\n",
       "Production        10741  1.587907\n",
       "Crop                967  0.142957\n",
       "Area                967  0.142957\n",
       "Area Units          967  0.142957\n",
       "Production Units    967  0.142957\n",
       "Yield               967  0.142957\n",
       "State                 0  0.000000\n",
       "District              0  0.000000\n",
       "Year                  0  0.000000\n",
       "Season                0  0.000000"
      ]
     },
     "execution_count": 3,
     "metadata": {},
     "output_type": "execute_result"
    }
   ],
   "source": [
    "# missing data\n",
    "missing_values(data, 10)"
   ]
  },
  {
   "cell_type": "code",
   "execution_count": 4,
   "metadata": {
    "scrolled": true
   },
   "outputs": [
    {
     "data": {
      "text/plain": [
       "(676425, 10)"
      ]
     },
     "execution_count": 4,
     "metadata": {},
     "output_type": "execute_result"
    }
   ],
   "source": [
    "data.shape"
   ]
  },
  {
   "cell_type": "code",
   "execution_count": 5,
   "metadata": {},
   "outputs": [
    {
     "data": {
      "text/plain": [
       "array(['Hectare', nan], dtype=object)"
      ]
     },
     "execution_count": 5,
     "metadata": {},
     "output_type": "execute_result"
    }
   ],
   "source": [
    "data['Area Units'].unique()"
   ]
  },
  {
   "cell_type": "code",
   "execution_count": 6,
   "metadata": {},
   "outputs": [
    {
     "data": {
      "text/plain": [
       "array(['Tonnes', 'Nuts', 'Bales', nan], dtype=object)"
      ]
     },
     "execution_count": 6,
     "metadata": {},
     "output_type": "execute_result"
    }
   ],
   "source": [
    "data['Production Units'].unique()"
   ]
  },
  {
   "cell_type": "code",
   "execution_count": 7,
   "metadata": {},
   "outputs": [
    {
     "data": {
      "text/html": [
       "<div>\n",
       "<style scoped>\n",
       "    .dataframe tbody tr th:only-of-type {\n",
       "        vertical-align: middle;\n",
       "    }\n",
       "\n",
       "    .dataframe tbody tr th {\n",
       "        vertical-align: top;\n",
       "    }\n",
       "\n",
       "    .dataframe thead th {\n",
       "        text-align: right;\n",
       "    }\n",
       "</style>\n",
       "<table border=\"1\" class=\"dataframe\">\n",
       "  <thead>\n",
       "    <tr style=\"text-align: right;\">\n",
       "      <th></th>\n",
       "      <th>State</th>\n",
       "      <th>District</th>\n",
       "      <th>Crop</th>\n",
       "      <th>Year</th>\n",
       "      <th>Season</th>\n",
       "      <th>Area</th>\n",
       "      <th>Area Units</th>\n",
       "      <th>Production</th>\n",
       "      <th>Production Units</th>\n",
       "      <th>Yield</th>\n",
       "    </tr>\n",
       "  </thead>\n",
       "  <tbody>\n",
       "    <tr>\n",
       "      <th>0</th>\n",
       "      <td>Andaman and Nicobar Islands</td>\n",
       "      <td>NICOBARS</td>\n",
       "      <td>Arecanut</td>\n",
       "      <td>2001-02</td>\n",
       "      <td>Kharif</td>\n",
       "      <td>1254.0</td>\n",
       "      <td>Hectare</td>\n",
       "      <td>2061.0</td>\n",
       "      <td>Tonnes</td>\n",
       "      <td>1.643541</td>\n",
       "    </tr>\n",
       "    <tr>\n",
       "      <th>1</th>\n",
       "      <td>Andaman and Nicobar Islands</td>\n",
       "      <td>NICOBARS</td>\n",
       "      <td>Arecanut</td>\n",
       "      <td>2002-03</td>\n",
       "      <td>Whole Year</td>\n",
       "      <td>1258.0</td>\n",
       "      <td>Hectare</td>\n",
       "      <td>2083.0</td>\n",
       "      <td>Tonnes</td>\n",
       "      <td>1.655803</td>\n",
       "    </tr>\n",
       "    <tr>\n",
       "      <th>2</th>\n",
       "      <td>Andaman and Nicobar Islands</td>\n",
       "      <td>NICOBARS</td>\n",
       "      <td>Arecanut</td>\n",
       "      <td>2003-04</td>\n",
       "      <td>Whole Year</td>\n",
       "      <td>1261.0</td>\n",
       "      <td>Hectare</td>\n",
       "      <td>1525.0</td>\n",
       "      <td>Tonnes</td>\n",
       "      <td>1.209358</td>\n",
       "    </tr>\n",
       "    <tr>\n",
       "      <th>3</th>\n",
       "      <td>Andaman and Nicobar Islands</td>\n",
       "      <td>NORTH AND MIDDLE ANDAMAN</td>\n",
       "      <td>Arecanut</td>\n",
       "      <td>2001-02</td>\n",
       "      <td>Kharif</td>\n",
       "      <td>3100.0</td>\n",
       "      <td>Hectare</td>\n",
       "      <td>5239.0</td>\n",
       "      <td>Tonnes</td>\n",
       "      <td>1.690000</td>\n",
       "    </tr>\n",
       "    <tr>\n",
       "      <th>4</th>\n",
       "      <td>Andaman and Nicobar Islands</td>\n",
       "      <td>SOUTH ANDAMANS</td>\n",
       "      <td>Arecanut</td>\n",
       "      <td>2002-03</td>\n",
       "      <td>Whole Year</td>\n",
       "      <td>3105.0</td>\n",
       "      <td>Hectare</td>\n",
       "      <td>5267.0</td>\n",
       "      <td>Tonnes</td>\n",
       "      <td>1.696296</td>\n",
       "    </tr>\n",
       "  </tbody>\n",
       "</table>\n",
       "</div>"
      ],
      "text/plain": [
       "                         State                  District      Crop     Year  \\\n",
       "0  Andaman and Nicobar Islands                  NICOBARS  Arecanut  2001-02   \n",
       "1  Andaman and Nicobar Islands                  NICOBARS  Arecanut  2002-03   \n",
       "2  Andaman and Nicobar Islands                  NICOBARS  Arecanut  2003-04   \n",
       "3  Andaman and Nicobar Islands  NORTH AND MIDDLE ANDAMAN  Arecanut  2001-02   \n",
       "4  Andaman and Nicobar Islands            SOUTH ANDAMANS  Arecanut  2002-03   \n",
       "\n",
       "       Season    Area Area Units  Production Production Units     Yield  \n",
       "0      Kharif  1254.0    Hectare      2061.0           Tonnes  1.643541  \n",
       "1  Whole Year  1258.0    Hectare      2083.0           Tonnes  1.655803  \n",
       "2  Whole Year  1261.0    Hectare      1525.0           Tonnes  1.209358  \n",
       "3      Kharif  3100.0    Hectare      5239.0           Tonnes  1.690000  \n",
       "4  Whole Year  3105.0    Hectare      5267.0           Tonnes  1.696296  "
      ]
     },
     "execution_count": 7,
     "metadata": {},
     "output_type": "execute_result"
    }
   ],
   "source": [
    "# remove all the rows that contain a missing value\n",
    "data_droped = data.dropna()\n",
    "data_droped.head()"
   ]
  },
  {
   "cell_type": "code",
   "execution_count": 8,
   "metadata": {},
   "outputs": [
    {
     "data": {
      "text/plain": [
       "(665684, 10)"
      ]
     },
     "execution_count": 8,
     "metadata": {},
     "output_type": "execute_result"
    }
   ],
   "source": [
    "data_droped.shape"
   ]
  },
  {
   "cell_type": "markdown",
   "metadata": {},
   "source": [
    "Only **1.5879070111246705 %** of data is Missing"
   ]
  },
  {
   "cell_type": "code",
   "execution_count": 9,
   "metadata": {},
   "outputs": [
    {
     "data": {
      "text/plain": [
       "1.5879070111246705"
      ]
     },
     "execution_count": 9,
     "metadata": {},
     "output_type": "execute_result"
    }
   ],
   "source": [
    "100 - (665684/676425)*100"
   ]
  },
  {
   "cell_type": "markdown",
   "metadata": {},
   "source": [
    "Droping add missing Values from data"
   ]
  },
  {
   "cell_type": "code",
   "execution_count": 10,
   "metadata": {},
   "outputs": [
    {
     "data": {
      "text/html": [
       "<div>\n",
       "<style scoped>\n",
       "    .dataframe tbody tr th:only-of-type {\n",
       "        vertical-align: middle;\n",
       "    }\n",
       "\n",
       "    .dataframe tbody tr th {\n",
       "        vertical-align: top;\n",
       "    }\n",
       "\n",
       "    .dataframe thead th {\n",
       "        text-align: right;\n",
       "    }\n",
       "</style>\n",
       "<table border=\"1\" class=\"dataframe\">\n",
       "  <thead>\n",
       "    <tr style=\"text-align: right;\">\n",
       "      <th></th>\n",
       "      <th>Total</th>\n",
       "      <th>Percent</th>\n",
       "    </tr>\n",
       "  </thead>\n",
       "  <tbody>\n",
       "    <tr>\n",
       "      <th>State</th>\n",
       "      <td>0</td>\n",
       "      <td>0.0</td>\n",
       "    </tr>\n",
       "    <tr>\n",
       "      <th>District</th>\n",
       "      <td>0</td>\n",
       "      <td>0.0</td>\n",
       "    </tr>\n",
       "    <tr>\n",
       "      <th>Crop</th>\n",
       "      <td>0</td>\n",
       "      <td>0.0</td>\n",
       "    </tr>\n",
       "    <tr>\n",
       "      <th>Year</th>\n",
       "      <td>0</td>\n",
       "      <td>0.0</td>\n",
       "    </tr>\n",
       "    <tr>\n",
       "      <th>Season</th>\n",
       "      <td>0</td>\n",
       "      <td>0.0</td>\n",
       "    </tr>\n",
       "    <tr>\n",
       "      <th>Area</th>\n",
       "      <td>0</td>\n",
       "      <td>0.0</td>\n",
       "    </tr>\n",
       "    <tr>\n",
       "      <th>Area Units</th>\n",
       "      <td>0</td>\n",
       "      <td>0.0</td>\n",
       "    </tr>\n",
       "    <tr>\n",
       "      <th>Production</th>\n",
       "      <td>0</td>\n",
       "      <td>0.0</td>\n",
       "    </tr>\n",
       "    <tr>\n",
       "      <th>Production Units</th>\n",
       "      <td>0</td>\n",
       "      <td>0.0</td>\n",
       "    </tr>\n",
       "    <tr>\n",
       "      <th>Yield</th>\n",
       "      <td>0</td>\n",
       "      <td>0.0</td>\n",
       "    </tr>\n",
       "  </tbody>\n",
       "</table>\n",
       "</div>"
      ],
      "text/plain": [
       "                  Total  Percent\n",
       "State                 0      0.0\n",
       "District              0      0.0\n",
       "Crop                  0      0.0\n",
       "Year                  0      0.0\n",
       "Season                0      0.0\n",
       "Area                  0      0.0\n",
       "Area Units            0      0.0\n",
       "Production            0      0.0\n",
       "Production Units      0      0.0\n",
       "Yield                 0      0.0"
      ]
     },
     "execution_count": 10,
     "metadata": {},
     "output_type": "execute_result"
    }
   ],
   "source": [
    "missing_values(data_droped, 10)"
   ]
  },
  {
   "cell_type": "code",
   "execution_count": 11,
   "metadata": {},
   "outputs": [],
   "source": [
    "data = data_droped"
   ]
  },
  {
   "cell_type": "markdown",
   "metadata": {},
   "source": [
    "Checking there is any different types of units presents.\n",
    "\n",
    "If present convert into single unit"
   ]
  },
  {
   "cell_type": "code",
   "execution_count": 12,
   "metadata": {
    "scrolled": true
   },
   "outputs": [
    {
     "data": {
      "text/plain": [
       "array(['Hectare'], dtype=object)"
      ]
     },
     "execution_count": 12,
     "metadata": {},
     "output_type": "execute_result"
    }
   ],
   "source": [
    "data['Area Units'].unique()"
   ]
  },
  {
   "cell_type": "markdown",
   "metadata": {},
   "source": [
    "**Area Units** have only one type unit, So maybe we can remove this column from data"
   ]
  },
  {
   "cell_type": "code",
   "execution_count": 13,
   "metadata": {
    "scrolled": true
   },
   "outputs": [
    {
     "data": {
      "text/plain": [
       "array(['Tonnes', 'Nuts', 'Bales'], dtype=object)"
      ]
     },
     "execution_count": 13,
     "metadata": {},
     "output_type": "execute_result"
    }
   ],
   "source": [
    "data['Production Units'].unique()"
   ]
  },
  {
   "cell_type": "markdown",
   "metadata": {},
   "source": [
    "But **Production Units** have 3 types of Units\n",
    "\n",
    "So find the index and convert them all into single unit (tonnes)"
   ]
  },
  {
   "cell_type": "code",
   "execution_count": 4,
   "metadata": {},
   "outputs": [
    {
     "data": {
      "text/plain": [
       "array([    20,     21,     22, ..., 663790, 663791, 663792])"
      ]
     },
     "execution_count": 4,
     "metadata": {},
     "output_type": "execute_result"
    }
   ],
   "source": [
    "idx = data[data['Production Units'] == 'Nuts'].index.values\n",
    "idx"
   ]
  },
  {
   "cell_type": "code",
   "execution_count": 15,
   "metadata": {},
   "outputs": [
    {
     "data": {
      "text/plain": [
       "5782"
      ]
     },
     "execution_count": 15,
     "metadata": {},
     "output_type": "execute_result"
    }
   ],
   "source": [
    "len(idx)"
   ]
  },
  {
   "cell_type": "code",
   "execution_count": 5,
   "metadata": {},
   "outputs": [
    {
     "data": {
      "text/plain": [
       "array([   539,    540,    541, ..., 664492, 664493, 664494])"
      ]
     },
     "execution_count": 5,
     "metadata": {},
     "output_type": "execute_result"
    }
   ],
   "source": [
    "idy = data[data['Production Units'] == 'Bales'].index.values\n",
    "idy"
   ]
  },
  {
   "cell_type": "code",
   "execution_count": 17,
   "metadata": {},
   "outputs": [
    {
     "data": {
      "text/plain": [
       "20742"
      ]
     },
     "execution_count": 17,
     "metadata": {},
     "output_type": "execute_result"
    }
   ],
   "source": [
    "len(idy)"
   ]
  },
  {
   "cell_type": "code",
   "execution_count": 18,
   "metadata": {},
   "outputs": [
    {
     "data": {
      "text/plain": [
       "array([     0,      1,      2, ..., 675505, 675506, 675507])"
      ]
     },
     "execution_count": 18,
     "metadata": {},
     "output_type": "execute_result"
    }
   ],
   "source": [
    "idz = data[data['Production Units'] == 'Tonnes'].index.values\n",
    "idz"
   ]
  },
  {
   "cell_type": "code",
   "execution_count": 19,
   "metadata": {},
   "outputs": [
    {
     "data": {
      "text/plain": [
       "639160"
      ]
     },
     "execution_count": 19,
     "metadata": {},
     "output_type": "execute_result"
    }
   ],
   "source": [
    "len(idz)"
   ]
  },
  {
   "cell_type": "markdown",
   "metadata": {},
   "source": [
    "**Production Units**\n",
    "\n",
    "**Bales** into **Tonnes**\n",
    "\n",
    "1 Bales = 217.7243376 Kg\n",
    "\n",
    "1 Tonne = 1000 Kg\n",
    "\n",
    "1 Bales = 0.2177243376 Tonne"
   ]
  },
  {
   "cell_type": "code",
   "execution_count": 25,
   "metadata": {},
   "outputs": [
    {
     "name": "stderr",
     "output_type": "stream",
     "text": [
      "/snap/jupyter/6/lib/python3.7/site-packages/ipykernel_launcher.py:3: SettingWithCopyWarning: \n",
      "A value is trying to be set on a copy of a slice from a DataFrame\n",
      "\n",
      "See the caveats in the documentation: https://pandas.pydata.org/pandas-docs/stable/user_guide/indexing.html#returning-a-view-versus-a-copy\n",
      "  This is separate from the ipykernel package so we can avoid doing imports until\n"
     ]
    }
   ],
   "source": [
    "# Conversion Bales into Tonnes\n",
    "for i in idy:\n",
    "    data['Production'][i] = data['Production'][i] / (0.2177243376)"
   ]
  },
  {
   "cell_type": "markdown",
   "metadata": {},
   "source": [
    "**Production Units**\n",
    "\n",
    "**NUTS** into **Tonnes**\n",
    "\n",
    "1 NUTS = 0.45 Kg\n",
    "\n",
    "1 Tonne = 1000 Kg\n",
    "\n",
    "1 NUTS =  0.00045 Tonne\n",
    "\n",
    "**Removimg NUTS unit from data set**"
   ]
  },
  {
   "cell_type": "code",
   "execution_count": 23,
   "metadata": {},
   "outputs": [
    {
     "data": {
      "text/plain": [
       "2.442695051188238"
      ]
     },
     "execution_count": 23,
     "metadata": {},
     "output_type": "execute_result"
    }
   ],
   "source": [
    "100 - ((665684-5782)/676425)*100"
   ]
  },
  {
   "cell_type": "markdown",
   "metadata": {},
   "source": [
    "Including this:\n",
    "Total **2.442695051188238 %** data is Removed"
   ]
  },
  {
   "cell_type": "code",
   "execution_count": 26,
   "metadata": {},
   "outputs": [],
   "source": [
    "# Removimg NUTS unit\n",
    "for j in idx:\n",
    "    data.drop(j)"
   ]
  },
  {
   "cell_type": "code",
   "execution_count": 29,
   "metadata": {},
   "outputs": [
    {
     "data": {
      "text/plain": [
       "98.41209298887533"
      ]
     },
     "execution_count": 29,
     "metadata": {},
     "output_type": "execute_result"
    }
   ],
   "source": [
    "data.shape[0]/676425 * 100"
   ]
  },
  {
   "cell_type": "code",
   "execution_count": 33,
   "metadata": {},
   "outputs": [],
   "source": [
    "# Save to a csv file\n",
    "output = data\n",
    "output.to_csv('data.csv', index=False)"
   ]
  },
  {
   "cell_type": "code",
   "execution_count": 34,
   "metadata": {},
   "outputs": [
    {
     "data": {
      "text/html": [
       "<div>\n",
       "<style scoped>\n",
       "    .dataframe tbody tr th:only-of-type {\n",
       "        vertical-align: middle;\n",
       "    }\n",
       "\n",
       "    .dataframe tbody tr th {\n",
       "        vertical-align: top;\n",
       "    }\n",
       "\n",
       "    .dataframe thead th {\n",
       "        text-align: right;\n",
       "    }\n",
       "</style>\n",
       "<table border=\"1\" class=\"dataframe\">\n",
       "  <thead>\n",
       "    <tr style=\"text-align: right;\">\n",
       "      <th></th>\n",
       "      <th>State</th>\n",
       "      <th>District</th>\n",
       "      <th>Crop</th>\n",
       "      <th>Year</th>\n",
       "      <th>Season</th>\n",
       "      <th>Area</th>\n",
       "      <th>Area Units</th>\n",
       "      <th>Production</th>\n",
       "      <th>Production Units</th>\n",
       "      <th>Yield</th>\n",
       "    </tr>\n",
       "  </thead>\n",
       "  <tbody>\n",
       "    <tr>\n",
       "      <th>0</th>\n",
       "      <td>Andaman and Nicobar Islands</td>\n",
       "      <td>NICOBARS</td>\n",
       "      <td>Arecanut</td>\n",
       "      <td>2001-02</td>\n",
       "      <td>Kharif</td>\n",
       "      <td>1254.0</td>\n",
       "      <td>Hectare</td>\n",
       "      <td>2061.0</td>\n",
       "      <td>Tonnes</td>\n",
       "      <td>1.643541</td>\n",
       "    </tr>\n",
       "    <tr>\n",
       "      <th>1</th>\n",
       "      <td>Andaman and Nicobar Islands</td>\n",
       "      <td>NICOBARS</td>\n",
       "      <td>Arecanut</td>\n",
       "      <td>2002-03</td>\n",
       "      <td>Whole Year</td>\n",
       "      <td>1258.0</td>\n",
       "      <td>Hectare</td>\n",
       "      <td>2083.0</td>\n",
       "      <td>Tonnes</td>\n",
       "      <td>1.655803</td>\n",
       "    </tr>\n",
       "    <tr>\n",
       "      <th>2</th>\n",
       "      <td>Andaman and Nicobar Islands</td>\n",
       "      <td>NICOBARS</td>\n",
       "      <td>Arecanut</td>\n",
       "      <td>2003-04</td>\n",
       "      <td>Whole Year</td>\n",
       "      <td>1261.0</td>\n",
       "      <td>Hectare</td>\n",
       "      <td>1525.0</td>\n",
       "      <td>Tonnes</td>\n",
       "      <td>1.209358</td>\n",
       "    </tr>\n",
       "    <tr>\n",
       "      <th>3</th>\n",
       "      <td>Andaman and Nicobar Islands</td>\n",
       "      <td>NORTH AND MIDDLE ANDAMAN</td>\n",
       "      <td>Arecanut</td>\n",
       "      <td>2001-02</td>\n",
       "      <td>Kharif</td>\n",
       "      <td>3100.0</td>\n",
       "      <td>Hectare</td>\n",
       "      <td>5239.0</td>\n",
       "      <td>Tonnes</td>\n",
       "      <td>1.690000</td>\n",
       "    </tr>\n",
       "    <tr>\n",
       "      <th>4</th>\n",
       "      <td>Andaman and Nicobar Islands</td>\n",
       "      <td>SOUTH ANDAMANS</td>\n",
       "      <td>Arecanut</td>\n",
       "      <td>2002-03</td>\n",
       "      <td>Whole Year</td>\n",
       "      <td>3105.0</td>\n",
       "      <td>Hectare</td>\n",
       "      <td>5267.0</td>\n",
       "      <td>Tonnes</td>\n",
       "      <td>1.696296</td>\n",
       "    </tr>\n",
       "  </tbody>\n",
       "</table>\n",
       "</div>"
      ],
      "text/plain": [
       "                         State                  District      Crop     Year  \\\n",
       "0  Andaman and Nicobar Islands                  NICOBARS  Arecanut  2001-02   \n",
       "1  Andaman and Nicobar Islands                  NICOBARS  Arecanut  2002-03   \n",
       "2  Andaman and Nicobar Islands                  NICOBARS  Arecanut  2003-04   \n",
       "3  Andaman and Nicobar Islands  NORTH AND MIDDLE ANDAMAN  Arecanut  2001-02   \n",
       "4  Andaman and Nicobar Islands            SOUTH ANDAMANS  Arecanut  2002-03   \n",
       "\n",
       "       Season    Area Area Units  Production Production Units     Yield  \n",
       "0      Kharif  1254.0    Hectare      2061.0           Tonnes  1.643541  \n",
       "1  Whole Year  1258.0    Hectare      2083.0           Tonnes  1.655803  \n",
       "2  Whole Year  1261.0    Hectare      1525.0           Tonnes  1.209358  \n",
       "3      Kharif  3100.0    Hectare      5239.0           Tonnes  1.690000  \n",
       "4  Whole Year  3105.0    Hectare      5267.0           Tonnes  1.696296  "
      ]
     },
     "execution_count": 34,
     "metadata": {},
     "output_type": "execute_result"
    }
   ],
   "source": [
    "# Load saved data.csv\n",
    "data_save = pd.read_csv('data.csv')\n",
    "data_save.head()"
   ]
  },
  {
   "cell_type": "code",
   "execution_count": 35,
   "metadata": {},
   "outputs": [
    {
     "data": {
      "text/html": [
       "<div>\n",
       "<style scoped>\n",
       "    .dataframe tbody tr th:only-of-type {\n",
       "        vertical-align: middle;\n",
       "    }\n",
       "\n",
       "    .dataframe tbody tr th {\n",
       "        vertical-align: top;\n",
       "    }\n",
       "\n",
       "    .dataframe thead th {\n",
       "        text-align: right;\n",
       "    }\n",
       "</style>\n",
       "<table border=\"1\" class=\"dataframe\">\n",
       "  <thead>\n",
       "    <tr style=\"text-align: right;\">\n",
       "      <th></th>\n",
       "      <th>Total</th>\n",
       "      <th>Percent</th>\n",
       "    </tr>\n",
       "  </thead>\n",
       "  <tbody>\n",
       "    <tr>\n",
       "      <th>State</th>\n",
       "      <td>0</td>\n",
       "      <td>0.0</td>\n",
       "    </tr>\n",
       "    <tr>\n",
       "      <th>District</th>\n",
       "      <td>0</td>\n",
       "      <td>0.0</td>\n",
       "    </tr>\n",
       "    <tr>\n",
       "      <th>Crop</th>\n",
       "      <td>0</td>\n",
       "      <td>0.0</td>\n",
       "    </tr>\n",
       "    <tr>\n",
       "      <th>Year</th>\n",
       "      <td>0</td>\n",
       "      <td>0.0</td>\n",
       "    </tr>\n",
       "    <tr>\n",
       "      <th>Season</th>\n",
       "      <td>0</td>\n",
       "      <td>0.0</td>\n",
       "    </tr>\n",
       "    <tr>\n",
       "      <th>Area</th>\n",
       "      <td>0</td>\n",
       "      <td>0.0</td>\n",
       "    </tr>\n",
       "    <tr>\n",
       "      <th>Area Units</th>\n",
       "      <td>0</td>\n",
       "      <td>0.0</td>\n",
       "    </tr>\n",
       "    <tr>\n",
       "      <th>Production</th>\n",
       "      <td>0</td>\n",
       "      <td>0.0</td>\n",
       "    </tr>\n",
       "    <tr>\n",
       "      <th>Production Units</th>\n",
       "      <td>0</td>\n",
       "      <td>0.0</td>\n",
       "    </tr>\n",
       "    <tr>\n",
       "      <th>Yield</th>\n",
       "      <td>0</td>\n",
       "      <td>0.0</td>\n",
       "    </tr>\n",
       "  </tbody>\n",
       "</table>\n",
       "</div>"
      ],
      "text/plain": [
       "                  Total  Percent\n",
       "State                 0      0.0\n",
       "District              0      0.0\n",
       "Crop                  0      0.0\n",
       "Year                  0      0.0\n",
       "Season                0      0.0\n",
       "Area                  0      0.0\n",
       "Area Units            0      0.0\n",
       "Production            0      0.0\n",
       "Production Units      0      0.0\n",
       "Yield                 0      0.0"
      ]
     },
     "execution_count": 35,
     "metadata": {},
     "output_type": "execute_result"
    }
   ],
   "source": [
    "missing_values(data_save, 10)"
   ]
  },
  {
   "cell_type": "code",
   "execution_count": 1,
   "metadata": {},
   "outputs": [
    {
     "data": {
      "text/html": [
       "<div>\n",
       "<style scoped>\n",
       "    .dataframe tbody tr th:only-of-type {\n",
       "        vertical-align: middle;\n",
       "    }\n",
       "\n",
       "    .dataframe tbody tr th {\n",
       "        vertical-align: top;\n",
       "    }\n",
       "\n",
       "    .dataframe thead th {\n",
       "        text-align: right;\n",
       "    }\n",
       "</style>\n",
       "<table border=\"1\" class=\"dataframe\">\n",
       "  <thead>\n",
       "    <tr style=\"text-align: right;\">\n",
       "      <th></th>\n",
       "      <th>State</th>\n",
       "      <th>District</th>\n",
       "      <th>Crop</th>\n",
       "      <th>Year</th>\n",
       "      <th>Season</th>\n",
       "      <th>Area</th>\n",
       "      <th>Area Units</th>\n",
       "      <th>Production</th>\n",
       "      <th>Production Units</th>\n",
       "      <th>Yield</th>\n",
       "    </tr>\n",
       "  </thead>\n",
       "  <tbody>\n",
       "    <tr>\n",
       "      <th>0</th>\n",
       "      <td>Andaman and Nicobar Islands</td>\n",
       "      <td>NICOBARS</td>\n",
       "      <td>Arecanut</td>\n",
       "      <td>2001-02</td>\n",
       "      <td>Kharif</td>\n",
       "      <td>1254.0</td>\n",
       "      <td>Hectare</td>\n",
       "      <td>2061.0</td>\n",
       "      <td>Tonnes</td>\n",
       "      <td>1.643541</td>\n",
       "    </tr>\n",
       "    <tr>\n",
       "      <th>1</th>\n",
       "      <td>Andaman and Nicobar Islands</td>\n",
       "      <td>NICOBARS</td>\n",
       "      <td>Arecanut</td>\n",
       "      <td>2002-03</td>\n",
       "      <td>Whole Year</td>\n",
       "      <td>1258.0</td>\n",
       "      <td>Hectare</td>\n",
       "      <td>2083.0</td>\n",
       "      <td>Tonnes</td>\n",
       "      <td>1.655803</td>\n",
       "    </tr>\n",
       "    <tr>\n",
       "      <th>2</th>\n",
       "      <td>Andaman and Nicobar Islands</td>\n",
       "      <td>NICOBARS</td>\n",
       "      <td>Arecanut</td>\n",
       "      <td>2003-04</td>\n",
       "      <td>Whole Year</td>\n",
       "      <td>1261.0</td>\n",
       "      <td>Hectare</td>\n",
       "      <td>1525.0</td>\n",
       "      <td>Tonnes</td>\n",
       "      <td>1.209358</td>\n",
       "    </tr>\n",
       "    <tr>\n",
       "      <th>3</th>\n",
       "      <td>Andaman and Nicobar Islands</td>\n",
       "      <td>NORTH AND MIDDLE ANDAMAN</td>\n",
       "      <td>Arecanut</td>\n",
       "      <td>2001-02</td>\n",
       "      <td>Kharif</td>\n",
       "      <td>3100.0</td>\n",
       "      <td>Hectare</td>\n",
       "      <td>5239.0</td>\n",
       "      <td>Tonnes</td>\n",
       "      <td>1.690000</td>\n",
       "    </tr>\n",
       "    <tr>\n",
       "      <th>4</th>\n",
       "      <td>Andaman and Nicobar Islands</td>\n",
       "      <td>SOUTH ANDAMANS</td>\n",
       "      <td>Arecanut</td>\n",
       "      <td>2002-03</td>\n",
       "      <td>Whole Year</td>\n",
       "      <td>3105.0</td>\n",
       "      <td>Hectare</td>\n",
       "      <td>5267.0</td>\n",
       "      <td>Tonnes</td>\n",
       "      <td>1.696296</td>\n",
       "    </tr>\n",
       "  </tbody>\n",
       "</table>\n",
       "</div>"
      ],
      "text/plain": [
       "                         State                  District      Crop     Year  \\\n",
       "0  Andaman and Nicobar Islands                  NICOBARS  Arecanut  2001-02   \n",
       "1  Andaman and Nicobar Islands                  NICOBARS  Arecanut  2002-03   \n",
       "2  Andaman and Nicobar Islands                  NICOBARS  Arecanut  2003-04   \n",
       "3  Andaman and Nicobar Islands  NORTH AND MIDDLE ANDAMAN  Arecanut  2001-02   \n",
       "4  Andaman and Nicobar Islands            SOUTH ANDAMANS  Arecanut  2002-03   \n",
       "\n",
       "       Season    Area Area Units  Production Production Units     Yield  \n",
       "0      Kharif  1254.0    Hectare      2061.0           Tonnes  1.643541  \n",
       "1  Whole Year  1258.0    Hectare      2083.0           Tonnes  1.655803  \n",
       "2  Whole Year  1261.0    Hectare      1525.0           Tonnes  1.209358  \n",
       "3      Kharif  3100.0    Hectare      5239.0           Tonnes  1.690000  \n",
       "4  Whole Year  3105.0    Hectare      5267.0           Tonnes  1.696296  "
      ]
     },
     "execution_count": 1,
     "metadata": {},
     "output_type": "execute_result"
    }
   ],
   "source": [
    "# Load saved data.csv\n",
    "import pandas as pd\n",
    "data  = pd.read_csv('data.csv')\n",
    "data.head()"
   ]
  },
  {
   "cell_type": "code",
   "execution_count": 2,
   "metadata": {},
   "outputs": [
    {
     "data": {
      "text/plain": [
       "array(['Hectare'], dtype=object)"
      ]
     },
     "execution_count": 2,
     "metadata": {},
     "output_type": "execute_result"
    }
   ],
   "source": [
    "data['Area Units'].unique()"
   ]
  },
  {
   "cell_type": "code",
   "execution_count": 3,
   "metadata": {},
   "outputs": [
    {
     "data": {
      "text/plain": [
       "array(['Tonnes', 'Nuts', 'Bales'], dtype=object)"
      ]
     },
     "execution_count": 3,
     "metadata": {},
     "output_type": "execute_result"
    }
   ],
   "source": [
    "data['Production Units'].unique()"
   ]
  },
  {
   "cell_type": "markdown",
   "metadata": {},
   "source": [
    "All **Production Units** converted into **Tonnes**\n",
    "\n",
    "So there is no need of **Production Units** Column"
   ]
  },
  {
   "cell_type": "code",
   "execution_count": 2,
   "metadata": {},
   "outputs": [
    {
     "data": {
      "text/html": [
       "<div>\n",
       "<style scoped>\n",
       "    .dataframe tbody tr th:only-of-type {\n",
       "        vertical-align: middle;\n",
       "    }\n",
       "\n",
       "    .dataframe tbody tr th {\n",
       "        vertical-align: top;\n",
       "    }\n",
       "\n",
       "    .dataframe thead th {\n",
       "        text-align: right;\n",
       "    }\n",
       "</style>\n",
       "<table border=\"1\" class=\"dataframe\">\n",
       "  <thead>\n",
       "    <tr style=\"text-align: right;\">\n",
       "      <th></th>\n",
       "      <th>State</th>\n",
       "      <th>District</th>\n",
       "      <th>Crop</th>\n",
       "      <th>Year</th>\n",
       "      <th>Season</th>\n",
       "      <th>Area</th>\n",
       "      <th>Area Units</th>\n",
       "      <th>Production</th>\n",
       "      <th>Yield</th>\n",
       "    </tr>\n",
       "  </thead>\n",
       "  <tbody>\n",
       "    <tr>\n",
       "      <th>0</th>\n",
       "      <td>Andaman and Nicobar Islands</td>\n",
       "      <td>NICOBARS</td>\n",
       "      <td>Arecanut</td>\n",
       "      <td>2001-02</td>\n",
       "      <td>Kharif</td>\n",
       "      <td>1254.0</td>\n",
       "      <td>Hectare</td>\n",
       "      <td>2061.0</td>\n",
       "      <td>1.643541</td>\n",
       "    </tr>\n",
       "    <tr>\n",
       "      <th>1</th>\n",
       "      <td>Andaman and Nicobar Islands</td>\n",
       "      <td>NICOBARS</td>\n",
       "      <td>Arecanut</td>\n",
       "      <td>2002-03</td>\n",
       "      <td>Whole Year</td>\n",
       "      <td>1258.0</td>\n",
       "      <td>Hectare</td>\n",
       "      <td>2083.0</td>\n",
       "      <td>1.655803</td>\n",
       "    </tr>\n",
       "    <tr>\n",
       "      <th>2</th>\n",
       "      <td>Andaman and Nicobar Islands</td>\n",
       "      <td>NICOBARS</td>\n",
       "      <td>Arecanut</td>\n",
       "      <td>2003-04</td>\n",
       "      <td>Whole Year</td>\n",
       "      <td>1261.0</td>\n",
       "      <td>Hectare</td>\n",
       "      <td>1525.0</td>\n",
       "      <td>1.209358</td>\n",
       "    </tr>\n",
       "    <tr>\n",
       "      <th>3</th>\n",
       "      <td>Andaman and Nicobar Islands</td>\n",
       "      <td>NORTH AND MIDDLE ANDAMAN</td>\n",
       "      <td>Arecanut</td>\n",
       "      <td>2001-02</td>\n",
       "      <td>Kharif</td>\n",
       "      <td>3100.0</td>\n",
       "      <td>Hectare</td>\n",
       "      <td>5239.0</td>\n",
       "      <td>1.690000</td>\n",
       "    </tr>\n",
       "    <tr>\n",
       "      <th>4</th>\n",
       "      <td>Andaman and Nicobar Islands</td>\n",
       "      <td>SOUTH ANDAMANS</td>\n",
       "      <td>Arecanut</td>\n",
       "      <td>2002-03</td>\n",
       "      <td>Whole Year</td>\n",
       "      <td>3105.0</td>\n",
       "      <td>Hectare</td>\n",
       "      <td>5267.0</td>\n",
       "      <td>1.696296</td>\n",
       "    </tr>\n",
       "  </tbody>\n",
       "</table>\n",
       "</div>"
      ],
      "text/plain": [
       "                         State                  District      Crop     Year  \\\n",
       "0  Andaman and Nicobar Islands                  NICOBARS  Arecanut  2001-02   \n",
       "1  Andaman and Nicobar Islands                  NICOBARS  Arecanut  2002-03   \n",
       "2  Andaman and Nicobar Islands                  NICOBARS  Arecanut  2003-04   \n",
       "3  Andaman and Nicobar Islands  NORTH AND MIDDLE ANDAMAN  Arecanut  2001-02   \n",
       "4  Andaman and Nicobar Islands            SOUTH ANDAMANS  Arecanut  2002-03   \n",
       "\n",
       "       Season    Area Area Units  Production     Yield  \n",
       "0      Kharif  1254.0    Hectare      2061.0  1.643541  \n",
       "1  Whole Year  1258.0    Hectare      2083.0  1.655803  \n",
       "2  Whole Year  1261.0    Hectare      1525.0  1.209358  \n",
       "3      Kharif  3100.0    Hectare      5239.0  1.690000  \n",
       "4  Whole Year  3105.0    Hectare      5267.0  1.696296  "
      ]
     },
     "execution_count": 2,
     "metadata": {},
     "output_type": "execute_result"
    }
   ],
   "source": [
    "data = data.drop('Production Units', axis=1)\n",
    "data.head()"
   ]
  },
  {
   "cell_type": "markdown",
   "metadata": {},
   "source": [
    "All **Area Units** converted into **Hectare**\n",
    "\n",
    "So there is no need of **Area Units** Column"
   ]
  },
  {
   "cell_type": "code",
   "execution_count": 3,
   "metadata": {},
   "outputs": [
    {
     "data": {
      "text/html": [
       "<div>\n",
       "<style scoped>\n",
       "    .dataframe tbody tr th:only-of-type {\n",
       "        vertical-align: middle;\n",
       "    }\n",
       "\n",
       "    .dataframe tbody tr th {\n",
       "        vertical-align: top;\n",
       "    }\n",
       "\n",
       "    .dataframe thead th {\n",
       "        text-align: right;\n",
       "    }\n",
       "</style>\n",
       "<table border=\"1\" class=\"dataframe\">\n",
       "  <thead>\n",
       "    <tr style=\"text-align: right;\">\n",
       "      <th></th>\n",
       "      <th>State</th>\n",
       "      <th>District</th>\n",
       "      <th>Crop</th>\n",
       "      <th>Year</th>\n",
       "      <th>Season</th>\n",
       "      <th>Area</th>\n",
       "      <th>Production</th>\n",
       "      <th>Yield</th>\n",
       "    </tr>\n",
       "  </thead>\n",
       "  <tbody>\n",
       "    <tr>\n",
       "      <th>0</th>\n",
       "      <td>Andaman and Nicobar Islands</td>\n",
       "      <td>NICOBARS</td>\n",
       "      <td>Arecanut</td>\n",
       "      <td>2001-02</td>\n",
       "      <td>Kharif</td>\n",
       "      <td>1254.0</td>\n",
       "      <td>2061.0</td>\n",
       "      <td>1.643541</td>\n",
       "    </tr>\n",
       "    <tr>\n",
       "      <th>1</th>\n",
       "      <td>Andaman and Nicobar Islands</td>\n",
       "      <td>NICOBARS</td>\n",
       "      <td>Arecanut</td>\n",
       "      <td>2002-03</td>\n",
       "      <td>Whole Year</td>\n",
       "      <td>1258.0</td>\n",
       "      <td>2083.0</td>\n",
       "      <td>1.655803</td>\n",
       "    </tr>\n",
       "    <tr>\n",
       "      <th>2</th>\n",
       "      <td>Andaman and Nicobar Islands</td>\n",
       "      <td>NICOBARS</td>\n",
       "      <td>Arecanut</td>\n",
       "      <td>2003-04</td>\n",
       "      <td>Whole Year</td>\n",
       "      <td>1261.0</td>\n",
       "      <td>1525.0</td>\n",
       "      <td>1.209358</td>\n",
       "    </tr>\n",
       "    <tr>\n",
       "      <th>3</th>\n",
       "      <td>Andaman and Nicobar Islands</td>\n",
       "      <td>NORTH AND MIDDLE ANDAMAN</td>\n",
       "      <td>Arecanut</td>\n",
       "      <td>2001-02</td>\n",
       "      <td>Kharif</td>\n",
       "      <td>3100.0</td>\n",
       "      <td>5239.0</td>\n",
       "      <td>1.690000</td>\n",
       "    </tr>\n",
       "    <tr>\n",
       "      <th>4</th>\n",
       "      <td>Andaman and Nicobar Islands</td>\n",
       "      <td>SOUTH ANDAMANS</td>\n",
       "      <td>Arecanut</td>\n",
       "      <td>2002-03</td>\n",
       "      <td>Whole Year</td>\n",
       "      <td>3105.0</td>\n",
       "      <td>5267.0</td>\n",
       "      <td>1.696296</td>\n",
       "    </tr>\n",
       "  </tbody>\n",
       "</table>\n",
       "</div>"
      ],
      "text/plain": [
       "                         State                  District      Crop     Year  \\\n",
       "0  Andaman and Nicobar Islands                  NICOBARS  Arecanut  2001-02   \n",
       "1  Andaman and Nicobar Islands                  NICOBARS  Arecanut  2002-03   \n",
       "2  Andaman and Nicobar Islands                  NICOBARS  Arecanut  2003-04   \n",
       "3  Andaman and Nicobar Islands  NORTH AND MIDDLE ANDAMAN  Arecanut  2001-02   \n",
       "4  Andaman and Nicobar Islands            SOUTH ANDAMANS  Arecanut  2002-03   \n",
       "\n",
       "       Season    Area  Production     Yield  \n",
       "0      Kharif  1254.0      2061.0  1.643541  \n",
       "1  Whole Year  1258.0      2083.0  1.655803  \n",
       "2  Whole Year  1261.0      1525.0  1.209358  \n",
       "3      Kharif  3100.0      5239.0  1.690000  \n",
       "4  Whole Year  3105.0      5267.0  1.696296  "
      ]
     },
     "execution_count": 3,
     "metadata": {},
     "output_type": "execute_result"
    }
   ],
   "source": [
    "data = data.drop('Area Units', axis=1)\n",
    "data.head()"
   ]
  },
  {
   "cell_type": "markdown",
   "metadata": {},
   "source": [
    "## Feature Engineering\n",
    "\n",
    "Find Score of DataSet"
   ]
  },
  {
   "cell_type": "code",
   "execution_count": 4,
   "metadata": {},
   "outputs": [],
   "source": [
    "# find score of data set - function\n",
    "from xgboost import XGBRegressor\n",
    "from sklearn.model_selection import cross_val_score\n",
    "import numpy as np\n",
    "\n",
    "def score_dataset(x, y, model=XGBRegressor()):\n",
    "    # label encoding for categoricals\n",
    "    for colname in x.select_dtypes(['object', 'category']):\n",
    "        x[colname], _ = x[colname].factorize()\n",
    "        # RMSLE (Root Mean Squared Log Error)\n",
    "    score = cross_val_score(model, x, y,\n",
    "                               cv=5,\n",
    "                               scoring='neg_mean_squared_error')\n",
    "    score = -1 * score.mean()\n",
    "    score = np.sqrt(score)\n",
    "    return score"
   ]
  },
  {
   "cell_type": "code",
   "execution_count": 17,
   "metadata": {},
   "outputs": [
    {
     "data": {
      "text/plain": [
       "dict_keys(['explained_variance', 'r2', 'max_error', 'neg_median_absolute_error', 'neg_mean_absolute_error', 'neg_mean_absolute_percentage_error', 'neg_mean_squared_error', 'neg_mean_squared_log_error', 'neg_root_mean_squared_error', 'neg_mean_poisson_deviance', 'neg_mean_gamma_deviance', 'accuracy', 'top_k_accuracy', 'roc_auc', 'roc_auc_ovr', 'roc_auc_ovo', 'roc_auc_ovr_weighted', 'roc_auc_ovo_weighted', 'balanced_accuracy', 'average_precision', 'neg_log_loss', 'neg_brier_score', 'adjusted_rand_score', 'rand_score', 'homogeneity_score', 'completeness_score', 'v_measure_score', 'mutual_info_score', 'adjusted_mutual_info_score', 'normalized_mutual_info_score', 'fowlkes_mallows_score', 'precision', 'precision_macro', 'precision_micro', 'precision_samples', 'precision_weighted', 'recall', 'recall_macro', 'recall_micro', 'recall_samples', 'recall_weighted', 'f1', 'f1_macro', 'f1_micro', 'f1_samples', 'f1_weighted', 'jaccard', 'jaccard_macro', 'jaccard_micro', 'jaccard_samples', 'jaccard_weighted'])"
      ]
     },
     "execution_count": 17,
     "metadata": {},
     "output_type": "execute_result"
    }
   ],
   "source": [
    "import sklearn\n",
    "sklearn.metrics.SCORERS.keys()"
   ]
  },
  {
   "cell_type": "code",
   "execution_count": 19,
   "metadata": {},
   "outputs": [
    {
     "data": {
      "text/plain": [
       "33.50598232444082"
      ]
     },
     "execution_count": 19,
     "metadata": {},
     "output_type": "execute_result"
    }
   ],
   "source": [
    "# assigning variables\n",
    "x = data.copy()\n",
    "y = x.pop('Yield')\n",
    "\n",
    "# Score\n",
    "score_dataset(x, y)"
   ]
  },
  {
   "cell_type": "markdown",
   "metadata": {},
   "source": [
    "Initialy We got Score = **33.50598232444082**"
   ]
  },
  {
   "cell_type": "markdown",
   "metadata": {},
   "source": [
    "### Mutual Information"
   ]
  },
  {
   "cell_type": "code",
   "execution_count": 5,
   "metadata": {},
   "outputs": [],
   "source": [
    "# assigning variables\n",
    "x = data.copy()\n",
    "y = x.pop('Yield')\n",
    "\n",
    "# label encoding for categoricals\n",
    "for colname in x.select_dtypes('object'):\n",
    "    x[colname], _ = x[colname].factorize()\n",
    "\n",
    "# all discrete features should now have integer dtypes (double-check this before using MI)\n",
    "discrete_features = x.dtypes == int"
   ]
  },
  {
   "cell_type": "code",
   "execution_count": 12,
   "metadata": {},
   "outputs": [
    {
     "data": {
      "text/html": [
       "<div>\n",
       "<style scoped>\n",
       "    .dataframe tbody tr th:only-of-type {\n",
       "        vertical-align: middle;\n",
       "    }\n",
       "\n",
       "    .dataframe tbody tr th {\n",
       "        vertical-align: top;\n",
       "    }\n",
       "\n",
       "    .dataframe thead th {\n",
       "        text-align: right;\n",
       "    }\n",
       "</style>\n",
       "<table border=\"1\" class=\"dataframe\">\n",
       "  <thead>\n",
       "    <tr style=\"text-align: right;\">\n",
       "      <th></th>\n",
       "      <th>State</th>\n",
       "      <th>District</th>\n",
       "      <th>Crop</th>\n",
       "      <th>Year</th>\n",
       "      <th>Season</th>\n",
       "      <th>Area</th>\n",
       "      <th>Production</th>\n",
       "    </tr>\n",
       "  </thead>\n",
       "  <tbody>\n",
       "    <tr>\n",
       "      <th>0</th>\n",
       "      <td>0</td>\n",
       "      <td>0</td>\n",
       "      <td>0</td>\n",
       "      <td>0</td>\n",
       "      <td>0</td>\n",
       "      <td>1254.0</td>\n",
       "      <td>2061.0</td>\n",
       "    </tr>\n",
       "    <tr>\n",
       "      <th>1</th>\n",
       "      <td>0</td>\n",
       "      <td>0</td>\n",
       "      <td>0</td>\n",
       "      <td>1</td>\n",
       "      <td>1</td>\n",
       "      <td>1258.0</td>\n",
       "      <td>2083.0</td>\n",
       "    </tr>\n",
       "    <tr>\n",
       "      <th>2</th>\n",
       "      <td>0</td>\n",
       "      <td>0</td>\n",
       "      <td>0</td>\n",
       "      <td>2</td>\n",
       "      <td>1</td>\n",
       "      <td>1261.0</td>\n",
       "      <td>1525.0</td>\n",
       "    </tr>\n",
       "    <tr>\n",
       "      <th>3</th>\n",
       "      <td>0</td>\n",
       "      <td>1</td>\n",
       "      <td>0</td>\n",
       "      <td>0</td>\n",
       "      <td>0</td>\n",
       "      <td>3100.0</td>\n",
       "      <td>5239.0</td>\n",
       "    </tr>\n",
       "    <tr>\n",
       "      <th>4</th>\n",
       "      <td>0</td>\n",
       "      <td>2</td>\n",
       "      <td>0</td>\n",
       "      <td>1</td>\n",
       "      <td>1</td>\n",
       "      <td>3105.0</td>\n",
       "      <td>5267.0</td>\n",
       "    </tr>\n",
       "    <tr>\n",
       "      <th>...</th>\n",
       "      <td>...</td>\n",
       "      <td>...</td>\n",
       "      <td>...</td>\n",
       "      <td>...</td>\n",
       "      <td>...</td>\n",
       "      <td>...</td>\n",
       "      <td>...</td>\n",
       "    </tr>\n",
       "    <tr>\n",
       "      <th>665679</th>\n",
       "      <td>33</td>\n",
       "      <td>582</td>\n",
       "      <td>40</td>\n",
       "      <td>19</td>\n",
       "      <td>2</td>\n",
       "      <td>6310.0</td>\n",
       "      <td>15280.0</td>\n",
       "    </tr>\n",
       "    <tr>\n",
       "      <th>665680</th>\n",
       "      <td>33</td>\n",
       "      <td>583</td>\n",
       "      <td>40</td>\n",
       "      <td>20</td>\n",
       "      <td>2</td>\n",
       "      <td>1895.0</td>\n",
       "      <td>2760.0</td>\n",
       "    </tr>\n",
       "    <tr>\n",
       "      <th>665681</th>\n",
       "      <td>33</td>\n",
       "      <td>583</td>\n",
       "      <td>40</td>\n",
       "      <td>21</td>\n",
       "      <td>2</td>\n",
       "      <td>3736.0</td>\n",
       "      <td>5530.0</td>\n",
       "    </tr>\n",
       "    <tr>\n",
       "      <th>665682</th>\n",
       "      <td>33</td>\n",
       "      <td>583</td>\n",
       "      <td>40</td>\n",
       "      <td>22</td>\n",
       "      <td>2</td>\n",
       "      <td>2752.0</td>\n",
       "      <td>6928.0</td>\n",
       "    </tr>\n",
       "    <tr>\n",
       "      <th>665683</th>\n",
       "      <td>33</td>\n",
       "      <td>583</td>\n",
       "      <td>40</td>\n",
       "      <td>19</td>\n",
       "      <td>2</td>\n",
       "      <td>2979.0</td>\n",
       "      <td>7430.0</td>\n",
       "    </tr>\n",
       "  </tbody>\n",
       "</table>\n",
       "<p>665684 rows × 7 columns</p>\n",
       "</div>"
      ],
      "text/plain": [
       "        State  District  Crop  Year  Season    Area  Production\n",
       "0           0         0     0     0       0  1254.0      2061.0\n",
       "1           0         0     0     1       1  1258.0      2083.0\n",
       "2           0         0     0     2       1  1261.0      1525.0\n",
       "3           0         1     0     0       0  3100.0      5239.0\n",
       "4           0         2     0     1       1  3105.0      5267.0\n",
       "...       ...       ...   ...   ...     ...     ...         ...\n",
       "665679     33       582    40    19       2  6310.0     15280.0\n",
       "665680     33       583    40    20       2  1895.0      2760.0\n",
       "665681     33       583    40    21       2  3736.0      5530.0\n",
       "665682     33       583    40    22       2  2752.0      6928.0\n",
       "665683     33       583    40    19       2  2979.0      7430.0\n",
       "\n",
       "[665684 rows x 7 columns]"
      ]
     },
     "execution_count": 12,
     "metadata": {},
     "output_type": "execute_result"
    }
   ],
   "source": [
    "data_x = x\n",
    "data_x"
   ]
  },
  {
   "cell_type": "code",
   "execution_count": 6,
   "metadata": {},
   "outputs": [],
   "source": [
    "from sklearn.feature_selection import mutual_info_regression\n",
    "\n",
    "def make_mi_score(x, y, discrete_features):\n",
    "    mi_scores = mutual_info_regression(x, y,\n",
    "                                       discrete_features=discrete_features)\n",
    "    mi_scores = pd.Series(mi_scores, name='MI Score',\n",
    "                         index=x.columns)\n",
    "    mi_scores = mi_scores.sort_values(ascending=False)\n",
    "    return mi_scores"
   ]
  },
  {
   "cell_type": "code",
   "execution_count": 8,
   "metadata": {},
   "outputs": [
    {
     "data": {
      "text/plain": [
       "Production    2.057304\n",
       "Area          1.782168\n",
       "Crop          1.355010\n",
       "District      1.155878\n",
       "State         0.826790\n",
       "Year          0.606073\n",
       "Season        0.419646\n",
       "Name: MI Score, dtype: float64"
      ]
     },
     "execution_count": 8,
     "metadata": {},
     "output_type": "execute_result"
    }
   ],
   "source": [
    "# mi_score\n",
    "mi_scores = make_mi_score(x, y, discrete_features)\n",
    "mi_scores"
   ]
  },
  {
   "cell_type": "code",
   "execution_count": 7,
   "metadata": {},
   "outputs": [],
   "source": [
    "import matplotlib.pyplot as plt\n",
    "\n",
    "# bar plot\n",
    "def plot_mi_score(scores):\n",
    "    scores = scores.sort_values(ascending=True)\n",
    "    width = np.arange(len(scores))\n",
    "    tickes = list(scores.index)\n",
    "    plt.barh(width, scores)\n",
    "    plt.yticks(width, tickes)\n",
    "    plt.title('Mutual Information Scores')"
   ]
  },
  {
   "cell_type": "code",
   "execution_count": 9,
   "metadata": {},
   "outputs": [
    {
     "data": {
      "image/png": "[encoded data removed]",
      "text/plain": [
       "<Figure size 800x500 with 1 Axes>"
      ]
     },
     "metadata": {
      "needs_background": "light"
     },
     "output_type": "display_data"
    }
   ],
   "source": [
    "plt.figure(dpi=100, figsize=(8, 5))\n",
    "plot_mi_score(mi_scores)"
   ]
  },
  {
   "cell_type": "markdown",
   "metadata": {},
   "source": [
    "### Clustering\n",
    "Clusters will break up complicated relationships across features into simpler chunks\n",
    "\n",
    "#### Clustering columns with high and Low MI Scores:\n",
    "\n",
    "Columns with **Low MI-Score** maybe not related with **Yield**(Target Column). \n",
    "But this maybe related with columns with **High MI Score**\n",
    "So this is help us to find relationship between these columns.  \n",
    "\n",
    "Creating a Cluster between **Production** and **Season**"
   ]
  },
  {
   "cell_type": "code",
   "execution_count": 13,
   "metadata": {},
   "outputs": [],
   "source": [
    "from sklearn.cluster import KMeans\n",
    "from sklearn.preprocessing import StandardScaler\n",
    "\n",
    "scaler = StandardScaler()\n",
    "\n",
    "features = ['Production', 'Season']\n",
    "\n",
    "# data[\"Season\"], _ = data[\"Season\"].factorize()\n",
    "\n",
    "# Standardize\n",
    "data_x_scaled = scaler.fit_transform(data_x.loc[:, features])\n",
    "# data_x_scaled = (data_x_scaled - data_x_scaled.mean(axis=0)) / data_x_scaled.std(axis=0)"
   ]
  },
  {
   "cell_type": "code",
   "execution_count": 16,
   "metadata": {},
   "outputs": [
    {
     "data": {
      "text/plain": [
       "array([[-0.04521011, -0.94086187],\n",
       "       [-0.0452091 , -0.16944659],\n",
       "       [-0.04523473, -0.16944659],\n",
       "       ...,\n",
       "       [-0.04505079,  0.60196869],\n",
       "       [-0.04498658,  0.60196869],\n",
       "       [-0.04496352,  0.60196869]])"
      ]
     },
     "execution_count": 16,
     "metadata": {},
     "output_type": "execute_result"
    }
   ],
   "source": [
    "data_x_scaled"
   ]
  },
  {
   "cell_type": "code",
   "execution_count": 17,
   "metadata": {},
   "outputs": [
    {
     "data": {
      "text/html": [
       "<div>\n",
       "<style scoped>\n",
       "    .dataframe tbody tr th:only-of-type {\n",
       "        vertical-align: middle;\n",
       "    }\n",
       "\n",
       "    .dataframe tbody tr th {\n",
       "        vertical-align: top;\n",
       "    }\n",
       "\n",
       "    .dataframe thead th {\n",
       "        text-align: right;\n",
       "    }\n",
       "</style>\n",
       "<table border=\"1\" class=\"dataframe\">\n",
       "  <thead>\n",
       "    <tr style=\"text-align: right;\">\n",
       "      <th></th>\n",
       "      <th>Production</th>\n",
       "      <th>Season</th>\n",
       "      <th>Cluster1</th>\n",
       "    </tr>\n",
       "  </thead>\n",
       "  <tbody>\n",
       "    <tr>\n",
       "      <th>0</th>\n",
       "      <td>2061.0</td>\n",
       "      <td>0</td>\n",
       "      <td>1</td>\n",
       "    </tr>\n",
       "    <tr>\n",
       "      <th>1</th>\n",
       "      <td>2083.0</td>\n",
       "      <td>1</td>\n",
       "      <td>3</td>\n",
       "    </tr>\n",
       "    <tr>\n",
       "      <th>2</th>\n",
       "      <td>1525.0</td>\n",
       "      <td>1</td>\n",
       "      <td>3</td>\n",
       "    </tr>\n",
       "    <tr>\n",
       "      <th>3</th>\n",
       "      <td>5239.0</td>\n",
       "      <td>0</td>\n",
       "      <td>1</td>\n",
       "    </tr>\n",
       "    <tr>\n",
       "      <th>4</th>\n",
       "      <td>5267.0</td>\n",
       "      <td>1</td>\n",
       "      <td>3</td>\n",
       "    </tr>\n",
       "  </tbody>\n",
       "</table>\n",
       "</div>"
      ],
      "text/plain": [
       "   Production  Season Cluster1\n",
       "0      2061.0       0        1\n",
       "1      2083.0       1        3\n",
       "2      1525.0       1        3\n",
       "3      5239.0       0        1\n",
       "4      5267.0       1        3"
      ]
     },
     "execution_count": 17,
     "metadata": {},
     "output_type": "execute_result"
    }
   ],
   "source": [
    "# create cluster feature\n",
    "kmeans = KMeans(n_clusters=6, random_state=0)\n",
    "data_x['Cluster1'] = kmeans.fit_predict(data_x_scaled)\n",
    "data_x['Cluster1'] = data_x['Cluster1'].astype('category')\n",
    "data_x.loc[:, features+['Cluster1']].head()"
   ]
  },
  {
   "cell_type": "code",
   "execution_count": 18,
   "metadata": {},
   "outputs": [
    {
     "data": {
      "text/plain": [
       "33.18483530121455"
      ]
     },
     "execution_count": 18,
     "metadata": {},
     "output_type": "execute_result"
    }
   ],
   "source": [
    "# Score\n",
    "score_dataset(data_x, y)"
   ]
  },
  {
   "cell_type": "markdown",
   "metadata": {},
   "source": [
    "Error Score: get reduced to **33.18483530121455** from **33.50598232444082**"
   ]
  },
  {
   "cell_type": "code",
   "execution_count": null,
   "metadata": {},
   "outputs": [],
   "source": []
  }
 ],
 "metadata": {
  "kernelspec": {
   "display_name": "Python 3",
   "language": "python",
   "name": "python3"
  },
  "language_info": {
   "codemirror_mode": {
    "name": "ipython",
    "version": 3
   },
   "file_extension": ".py",
   "mimetype": "text/x-python",
   "name": "python",
   "nbconvert_exporter": "python",
   "pygments_lexer": "ipython3",
   "version": "3.7.3"
  }
 },
 "nbformat": 4,
 "nbformat_minor": 2
}
